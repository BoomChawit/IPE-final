{
 "cells": [
  {
   "cell_type": "code",
   "execution_count": 1,
   "metadata": {},
   "outputs": [],
   "source": [
    "import numpy as np\n",
    "import pandas as pd\n",
    "from sklearn.model_selection import train_test_split\n",
    "from sklearn.tree import DecisionTreeClassifier   \n",
    "from sklearn.neural_network import MLPClassifier"
   ]
  },
  {
   "cell_type": "code",
   "execution_count": 2,
   "metadata": {},
   "outputs": [],
   "source": [
    "training_values = pd.read_csv(\"sample_data/assignment_2019/training_values.csv\")\n",
    "training_labels = pd.read_csv(\"sample_data/assignment_2019/training_labels.csv\")\n",
    "machine = training_values.loc[:,['construction_year','extraction_type','scheme_management','region','basin',\n",
    "                                 'management','water_quality', 'quantity', 'source', 'waterpoint_type']]\n",
    "machine['function'] = training_labels.loc[:,'status_group']\n",
    "machine = machine.replace({0:np.nan})\n",
    "machine = machine.dropna()\n",
    "\n",
    "for feature in machine.columns:\n",
    "    if feature != 'construction_year':\n",
    "        a = list(machine.loc[:,feature].unique())\n",
    "        for n, m in enumerate(a):\n",
    "            machine = machine.replace({m: n})"
   ]
  },
  {
   "cell_type": "code",
   "execution_count": 3,
   "metadata": {},
   "outputs": [],
   "source": [
    "X_train, X_test, y_train, y_test = train_test_split(machine.loc[:,:'waterpoint_type'],\n",
    "                                                    machine.loc[:,'function'],            \n",
    "                                                    random_state=0)"
   ]
  },
  {
   "cell_type": "code",
   "execution_count": 5,
   "metadata": {},
   "outputs": [
    {
     "name": "stdout",
     "output_type": "stream",
     "text": [
      "tree: 0.772075055187638\n",
      "ANN: 0.5629139072847682\n"
     ]
    }
   ],
   "source": [
    "tree = DecisionTreeClassifier(random_state=0) \n",
    "tree.fit(X_train, y_train) \n",
    "print(f\"tree: {tree.score(X_test, y_test)}\")\n",
    "\n",
    "mlp = MLPClassifier(solver='lbfgs', random_state=0).fit(X_train,y_train)\n",
    "print(f\"ANN: {mlp.score(X_test,y_test)}\")"
   ]
  },
  {
   "cell_type": "code",
   "execution_count": null,
   "metadata": {},
   "outputs": [],
   "source": []
  }
 ],
 "metadata": {
  "kernelspec": {
   "display_name": "Python 3",
   "language": "python",
   "name": "python3"
  },
  "language_info": {
   "codemirror_mode": {
    "name": "ipython",
    "version": 3
   },
   "file_extension": ".py",
   "mimetype": "text/x-python",
   "name": "python",
   "nbconvert_exporter": "python",
   "pygments_lexer": "ipython3",
   "version": "3.7.3"
  }
 },
 "nbformat": 4,
 "nbformat_minor": 2
}
